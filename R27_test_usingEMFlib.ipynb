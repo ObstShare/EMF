{
 "cells": [
  {
   "cell_type": "code",
   "execution_count": 2,
   "metadata": {},
   "outputs": [
    {
     "name": "stdout",
     "output_type": "stream",
     "text": [
      "my path /home/klaus/Documents/EMF\n"
     ]
    }
   ],
   "source": [
    "import os, sys, numpy,pandas,matplotlib, scipy,scipy.signal,scipy.fftpack,scipy.special\n",
    "\n",
    "module_path = os.path.abspath('/home/klaus/Documents/EMF/')\n",
    "print( \"my path %s\" % module_path)\n",
    "if module_path not in sys.path:\n",
    "    sys.path.append(module_path)\n",
    "\n",
    "from EMFlib import *"
   ]
  },
  {
   "cell_type": "code",
   "execution_count": 23,
   "metadata": {},
   "outputs": [
    {
     "data": {
      "text/plain": [
       "array([  0.        ,   0.        ,  16.06133121])"
      ]
     },
     "execution_count": 23,
     "metadata": {},
     "output_type": "execute_result"
    }
   ],
   "source": [
    "testD=1.\n",
    "Bvec, Babs = B_RectLoop(0,0,1.,I=1000,a=0.1,b=1) # B_RectLoop(x,y,z,I=1,a=0.5, b=0.5)\n",
    "numpy.array(Bvec)*1e6"
   ]
  },
  {
   "cell_type": "code",
   "execution_count": 32,
   "metadata": {},
   "outputs": [
    {
     "name": "stdout",
     "output_type": "stream",
     "text": [
      "[-1.9790743732840617e-06, 0.0, 2.016785388946134e-05]\n",
      "[-1.9790743732840617e-06, -0.0, -2.0167853889461338e-05]\n",
      "AQ bei 1m = 4.0 percent (for 100muT)\n"
     ]
    },
    {
     "data": {
      "text/plain": [
       "array([ -3.95814875e+00,   0.00000000e+00,   3.38813179e-15])"
      ]
     },
     "execution_count": 32,
     "metadata": {},
     "output_type": "execute_result"
    }
   ],
   "source": [
    "Bvec, Bvec1, Bvec3, Babs = B_RectLoop_SymDrehstrom(0,0,testD,I=1000,a=0.1,b=10) \n",
    "print(Bvec1)\n",
    "print(Bvec3)\n",
    "AQ = numpy.sqrt( Bvec[0]**2+ Bvec[1]**2 +Bvec[2]**2)*1e6/100 # muT\n",
    "print(\"AQ bei 1m = %.1f percent (for 100muT)\" % (AQ*100))\n",
    "numpy.array(Bvec)*1e6"
   ]
  },
  {
   "cell_type": "code",
   "execution_count": 33,
   "metadata": {},
   "outputs": [
    {
     "name": "stdout",
     "output_type": "stream",
     "text": [
      "func dA: Dr, i, iA2, iA3: 2.82, 1, 0.0614202, 614.202\n",
      "func dA: will be Gradklasse 2\n",
      "dA=0.70 m\n",
      "AQ bei 1m = 48.8 percent \n"
     ]
    }
   ],
   "source": [
    "def func_dA_DrehstromLang(I_kA, a1,a2, kOS=1.41,AW=100,d=1):  # ohne Fallunterscheidung welche Schleife, Zone via AW eper default\n",
    "    \n",
    "    Dr = 0.2*kOS*1000/AW   \n",
    "    \n",
    "    # schwellen Tab 29 (oder so)\n",
    "    iA2 = math.sqrt(3.)*a1/Dr\n",
    "    iA3 = math.sqrt(3.)*a2**2/a1/Dr\n",
    "    i=I_kA/1. # kA bzw dimensionslos\n",
    "    print(\"func dA: Dr, i, iA2, iA3: %g, %g, %g, %g\" % (Dr,i,iA2,iA3))\n",
    "    \n",
    "    ## dA, AQ.. Tab 30 (oder so)\n",
    "    if i < iA2: # GradKlasse 1\n",
    "        G1 = Dr\n",
    "        dA = G1*i\n",
    "        AQ = G1*i/d\n",
    "        print(\"func dA: will be Gradklasse 1 (for this Dr)\")\n",
    "    elif i < iA3: # GradKlasse 2\n",
    "        G2 = Dr* math.sqrt(3.)*a1\n",
    "        dA = numpy.power( G2*i, 0.5000)\n",
    "        AQ = G2*i/d**2\n",
    "        print(\"func dA: will be Gradklasse 2 (for this Dr)\")\n",
    "    else: # GradKlasse 3\n",
    "        G3 = Dr* math.sqrt(3.)*a1*a2\n",
    "        dA = numpy.power( G3*i, 0.3333)\n",
    "        AQ = G3*i/d**3\n",
    "        print(\"func dA: will be Gradklasse 3 (for this Dr)\")\n",
    "        \n",
    "    return dA, AQ # auslosedistanz, AQ for given d\n",
    "\n",
    "#func_dA_DrehstromLang(1., 0.1,10, kOS=1.41,AW=100,d=1)\n",
    "dA, AQ = func_dA_DrehstromLang(1, 0.1,10, kOS=1.41,AW=100,d=testD) # 1kA 10cm 10m\n",
    "print(\"dA=%.2f m\" % dA)\n",
    "print(\"AQ bei 1m = %.1f percent \" % (AQ*100))"
   ]
  },
  {
   "cell_type": "code",
   "execution_count": null,
   "metadata": {},
   "outputs": [],
   "source": []
  }
 ],
 "metadata": {
  "kernelspec": {
   "display_name": "Python 3",
   "language": "python",
   "name": "python3"
  },
  "language_info": {
   "codemirror_mode": {
    "name": "ipython",
    "version": 3
   },
   "file_extension": ".py",
   "mimetype": "text/x-python",
   "name": "python",
   "nbconvert_exporter": "python",
   "pygments_lexer": "ipython3",
   "version": "3.6.7"
  }
 },
 "nbformat": 4,
 "nbformat_minor": 2
}
